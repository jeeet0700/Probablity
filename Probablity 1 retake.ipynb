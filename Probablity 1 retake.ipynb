{
 "cells": [
  {
   "cell_type": "code",
   "execution_count": 23,
   "id": "f6d6f070",
   "metadata": {},
   "outputs": [],
   "source": [
    "import numpy as np\n",
    "import pandas as pd"
   ]
  },
  {
   "cell_type": "code",
   "execution_count": 3,
   "id": "c9cd69c3",
   "metadata": {},
   "outputs": [
    {
     "data": {
      "text/plain": [
       "'T'"
      ]
     },
     "execution_count": 3,
     "metadata": {},
     "output_type": "execute_result"
    }
   ],
   "source": [
    "np.random.choice([\"H\",\"T\"])"
   ]
  },
  {
   "cell_type": "code",
   "execution_count": 5,
   "id": "2e93986c",
   "metadata": {},
   "outputs": [
    {
     "data": {
      "text/plain": [
       "array(['H'], dtype='<U1')"
      ]
     },
     "execution_count": 5,
     "metadata": {},
     "output_type": "execute_result"
    }
   ],
   "source": [
    "np.random.choice([\"H\",\"T\"],size=1)"
   ]
  },
  {
   "cell_type": "code",
   "execution_count": 4,
   "id": "644849e8",
   "metadata": {},
   "outputs": [
    {
     "data": {
      "text/plain": [
       "array(['H', 'T'], dtype='<U1')"
      ]
     },
     "execution_count": 4,
     "metadata": {},
     "output_type": "execute_result"
    }
   ],
   "source": [
    "np.random.choice([\"H\",\"T\"],size=2)"
   ]
  },
  {
   "cell_type": "code",
   "execution_count": 7,
   "id": "45aa91aa",
   "metadata": {},
   "outputs": [
    {
     "data": {
      "text/plain": [
       "'B'"
      ]
     },
     "execution_count": 7,
     "metadata": {},
     "output_type": "execute_result"
    }
   ],
   "source": [
    "np.random.choice([\"B\",\"B\",\"R\",\"R\",\"R\"])"
   ]
  },
  {
   "cell_type": "code",
   "execution_count": 11,
   "id": "1719f098",
   "metadata": {},
   "outputs": [
    {
     "data": {
      "text/plain": [
       "array(['R', 'B', 'R', 'B'], dtype='<U1')"
      ]
     },
     "execution_count": 11,
     "metadata": {},
     "output_type": "execute_result"
    }
   ],
   "source": [
    "np.random.choice([\"B\",\"B\",\"R\",\"R\",\"R\"],size=4)"
   ]
  },
  {
   "cell_type": "code",
   "execution_count": 13,
   "id": "ebcdf37f",
   "metadata": {},
   "outputs": [
    {
     "data": {
      "text/plain": [
       "array(['R', 'R', 'B', 'R'], dtype='<U1')"
      ]
     },
     "execution_count": 13,
     "metadata": {},
     "output_type": "execute_result"
    }
   ],
   "source": [
    "roll=np.random.choice([\"B\",\"B\",\"R\",\"R\",\"R\"],size=4)\n",
    "roll"
   ]
  },
  {
   "cell_type": "code",
   "execution_count": 14,
   "id": "bc568f12",
   "metadata": {},
   "outputs": [
    {
     "data": {
      "text/plain": [
       "array([ True,  True, False,  True])"
      ]
     },
     "execution_count": 14,
     "metadata": {},
     "output_type": "execute_result"
    }
   ],
   "source": [
    "roll==\"R\""
   ]
  },
  {
   "cell_type": "code",
   "execution_count": 17,
   "id": "e23a8b7f",
   "metadata": {},
   "outputs": [
    {
     "data": {
      "text/plain": [
       "3"
      ]
     },
     "execution_count": 17,
     "metadata": {},
     "output_type": "execute_result"
    }
   ],
   "source": [
    "np.count_nonzero(roll==\"R\")"
   ]
  },
  {
   "cell_type": "code",
   "execution_count": 21,
   "id": "7fcba146",
   "metadata": {},
   "outputs": [
    {
     "name": "stdout",
     "output_type": "stream",
     "text": [
      "[0, 2, 2, 3, 2, 2, 2, 3, 1, 1, 4, 2, 3, 3, 4, 1, 3, 2, 3, 3, 4, 2, 2, 4, 3, 3, 2, 2, 1, 2, 4, 3, 3, 1, 1, 2, 3, 1, 2, 2, 3, 1, 3, 4, 3, 2, 1, 2, 2, 1, 2, 2, 4, 4, 3, 1, 2, 2, 3, 4, 1, 4, 2, 2, 2, 0, 1, 4, 4, 3, 4, 4, 2, 3, 2]\n"
     ]
    }
   ],
   "source": [
    "red_value=[]\n",
    "for i in range(75):\n",
    "    red=np.random.choice([\"B\",\"B\",\"R\",\"R\",\"R\"],size=4)\n",
    "    num_red=np.count_nonzero(red==\"R\")\n",
    "    red_value.append(num_red)\n",
    "print(red_value)"
   ]
  },
  {
   "cell_type": "code",
   "execution_count": 24,
   "id": "38890cf4",
   "metadata": {},
   "outputs": [
    {
     "data": {
      "text/plain": [
       "2    27\n",
       "3    19\n",
       "4    14\n",
       "1    13\n",
       "0     2\n",
       "dtype: int64"
      ]
     },
     "execution_count": 24,
     "metadata": {},
     "output_type": "execute_result"
    }
   ],
   "source": [
    "pd.value_counts(red_value)"
   ]
  },
  {
   "cell_type": "code",
   "execution_count": null,
   "id": "40441a9d",
   "metadata": {},
   "outputs": [],
   "source": []
  }
 ],
 "metadata": {
  "kernelspec": {
   "display_name": "Python 3 (ipykernel)",
   "language": "python",
   "name": "python3"
  },
  "language_info": {
   "codemirror_mode": {
    "name": "ipython",
    "version": 3
   },
   "file_extension": ".py",
   "mimetype": "text/x-python",
   "name": "python",
   "nbconvert_exporter": "python",
   "pygments_lexer": "ipython3",
   "version": "3.9.13"
  }
 },
 "nbformat": 4,
 "nbformat_minor": 5
}
